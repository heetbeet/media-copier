{
 "cells": [
  {
   "cell_type": "code",
   "execution_count": 125,
   "metadata": {
    "scrolled": false
   },
   "outputs": [],
   "source": [
    "#from https://en.wikipedia.org/wiki/Comparison_of_video_container_formats\n",
    "str_in = \"\"\"3GP \t3GPP \t? \tYes \tYes \t? \t3GPP Timed Text \tH.263, MPEG-4 Part 2 and H.264/MPEG-4 AVC \tAMR-NB, AMR-WB, AMR-WB+, AAC, HE-AAC and HE-AAC v2 \t? \tNo \tYes[3] \t? \t? \t? \t?\n",
    "3G2 \t3GPP2 \t? \tYes \tYes \t? \t3GPP Timed Text \tH.263, MPEG-4 Part 2 and H.264/MPEG-4 AVC \tAMR-NB, AMR-WB, AAC, HE-AAC, EVRC, EVRC-B, EVRC-WB, 13K (QCELP), SMV or VMR-WB \t? \tNo \tYes \t? \t? \t? \t?\n",
    "Advanced Systems Format (.asf, .wma, .wmv) \tMicrosoft \tProprietary, patent encumbered \tYes \tYes \tYes \tYes \tAlmost anything through VFW or DMO; H.264/AVC is problematic \tAlmost anything through ACM or DMO; Vorbis is problematic \tYes \tNo \tYes \t? \t? \t? \tYes\n",
    "AVI \tMicrosoft \t? \tYes[4] \tYes[5] \tYes, via third party modifications \tYes, via third party modifications \tAlmost anything through VFW \tAlmost anything through ACM; Vorbis is problematic [6] \tYes through RIFF chunks \tNo \tNo \tNo \t? \tNo \tYes\n",
    "DivX Media Format (.divx) \tDivX, Inc. \t? \tYes \tYes \tYes \tYes \tMPEG-4 Part 2 video encoded to meet DivX profiles \tMP3, PCM, AC-3 \t? \tYes \tYes \t? \t? \t? \tYes\n",
    "EVO \tDVD Form \tPatent encumbered \tYes \tYes \tYes \tYes \tMPEG-2 Part 2, H.264/MPEG-4 AVC, VC-1 \tAC-3, E-AC-3, Dolby TrueHD, LPCM, DTS, DTS-HD, MPEG-2 Part 3 \t? \tYes \t? \t? \t? \t? \t?\n",
    "F4V (Flash Video) \tAdobe Systems \tPatent encumbered \t? \tYes \t? \t? \tH.264/MPEG-4 AVC \tMP3, AAC, HE-AAC[7] \tYes \tNo \tYes \t? \t? \t? \t?\n",
    "FLV (Flash Video) \tAdobe Systems \tPatent encumbered \t? \tYes \tNo \tNo \tSorenson, VP6, Screen Video, H.264/MPEG-4 AVC[8][9] \tMP3, Nellymoser, ADPCM, LPCM, AAC,[10] Speex[11] \tYes \tNo \tYes \t? \t? \t? \t?\n",
    "Matroska (.mkv, .mk3d, .mka, .mks, .webm) \tCoreCodec, Inc.[12] \tFreely licensed[13] \tYes[14] \tYes[14] \tYes[15] \tYes[16] \tVirtually anything (.webm restricts to VP8 and VP9) \tVirtually anything (.webm restricts to Vorbis and Opus) \tYes[17] \tPending[18] \tYes[19] \tYes[20] \tYes[21] \tYes[21] \tYes[22]\n",
    "MCF \tCommunity \tBSD-style license for specs, GNU for tools \tYes \tYes \tYes[23] \tYes[23] \tNot fully specified \tNot fully specified \tYes \tPossible[24] \tYes[25] \tYes[23] \t? \t? \tNo\n",
    "MP4 \tMPEG \tPatent encumbered \tYes \tYes \tIn specially formatted text track (QuickTime); 2) In userdata atom (started by Nero Digital) can't interact with the sceneDescription, or via segmentDescriptor \tttxt, VobSubs with private objectTypeIndication not usable with the sceneDescription (started by Nero), BIFS \tHEVC/MPEG-H Part 2/H.265, MPEG-2 Part 2, MPEG-4 ASP, H.264/MPEG-4 AVC, H.263, VC-1, Dirac, others[26] \tMPEG-2/4 (HE)-AAC, MPEG-1/2 Layers I, II, III (MP3), AC-3, Apple Lossless, ALS, SLS, Vorbis(with private objectTypeIndication), others[26] \tYes \tYes \tYes \tYes \tYes \t? \tYes\n",
    "MPEG Video File (.mpg, .mpeg) \tMPEG \tPatent encumbered \tYes \tYes \tNo \tNo \tMPEG-1, MPEG-2[27] \tMPEG-1 Layers I, II, III (mp3), other formats only in private streams: LPCM[28] \tNo \tNo \tYes \t? \t? \t? \tYes\n",
    "MPEG program stream PS (.m2p, .ps) \tMPEG \tPatent encumbered \tYes \t? \tOnly in private streams — used in VOB files on DVDs \tOnly in private streams — used in VOB files on DVDs \tMPEG-1, MPEG-2, MPEG-4 Part 2,[27] VC-1, H.264[29] \tMPEG-1 Layers I, II, III (mp3), other formats only in private streams: AAC, AC-3, LPCM, DTS[28] \tNo \tOnly in private streams — used in VOB files on DVDs \t? \t? \t? \t? \tYes\n",
    "MPEG transport stream TS (.ts) \tMPEG \tPatent encumbered \tYes \tYes \tNo \tpossible via ETSI EN 300 743 \tMPEG-1, MPEG-2 Part 2, MPEG-4 ASP, H.264, JPEG 2000, TICO, other formats in private streams: VC-1, Dirac[30] \tMPEG-1 Layers I, II, III (mp3), AAC, other formats in private streams: AC-3, LPCM, DTS[30] \tNo \tNo \tYes \t? \t? \t? \tYes\n",
    "BDAV MPEG-2 transport stream (.m2ts) \tBlu-ray Disc Association \tProprietary \tYes \tYes \tYes \tYes \tMPEG-2 Part 2, H.264, VC-1 \tAC-3, DTS, LPCM, Dolby Digital Plus, DTS HD, Dolby Lossless \tYes \tYes \tYes \tYes \tYes \tYes \tYes[31]\n",
    "MXF \tSMPTE \t? \tYes \tYes \t? \tYes \tVirtually anything \tVirtually anything \tYes \tNo \t? \t? \t? \t? \tNo\n",
    "Ogg \tXiph.org \tPatent-free, Free software implementations available \tYes \tYes \tYes \tOgg Writ, Ogg Kate \tTheora, Dirac, OggUVS, MNG and others,[32][33] and almost anything else via VFW \tVorbis, FLAC, Speex, Opus, OggPCM,[32][33] and almost anything else via ACM \tCMML, Ogg Skeleton, Vorbis comment[34] \tNo \tYes \t? \t? \t? \tYes\n",
    "QuickTime (.mov, .qt) \tApple \tProprietary \tYes \tYes \tYes \tYes \tMPEG-2 (OS X Lion or later),\n",
    "RMVB \tRealNetworks \tProprietary \t? \tYes \t? \tYes \tRealVideo 8, 9, 10 \t(HE)-AAC, Cook Codec, Vorbis, RealAudio Lossless \t? \tNo \tYes \t? \t? \t? \t?\n",
    "VOB+IFO \tDVD Forum \tProprietary \tYes \tYes \tYes \tYes \tMPEG-2 Part 2, MPEG-1 Part 2 \tAC-3, LPCM, DTS, MPEG-2 Part 3, MPEG-1 Layer II \tNo \tYes \tNo \tNo \tNo \tNo \tYes\n",
    "\"\"\"\n",
    "str_in = [i.split('\\t')[0] for i in str_in.split('\\n')]\n",
    "exts_lst = [[j.lower().replace('.','').strip() for j in i.split('(')[1].split(')')[0].split(',')] if '(.' in i else i.lower().split(' ')[0].split('+')\n",
    "         for i in str_in if i.strip() != ''\n",
    "         ]\n",
    "exts = []\n",
    "for i in exts_lst:\n",
    "    for i in i:\n",
    "        exts.append(i)\n",
    "        \n",
    "exts.sort()\n",
    "exts1 = exts"
   ]
  },
  {
   "cell_type": "code",
   "execution_count": 126,
   "metadata": {},
   "outputs": [],
   "source": [
    "#from https://en.wikipedia.org/wiki/Video_file_format\n",
    "str_in = \"\"\"\n",
    "List of video file formats\n",
    "Name \tFile extension(s) \tContainer format \tVideo coding format(s) \tAudio coding format(s) \tNotes\n",
    "WebM \t.webm \tMatroska \tVP8, VP9, AV1 \tVorbis, Opus \tRoyalty-free format created for HTML5 video.\n",
    "Matroska \t.mkv \tMatroska \tany \tany \t\n",
    "Flash Video (FLV) \t.flv \tFLV \tVP6, Sorenson Spark, Screen video, Screen video 2, H.264 \tMP3, ADPCM, Nellymoser, Speex, AAC \tUse of the H.264 and AAC compression formats in the FLV file format has some limitations and authors of Flash Player strongly encourage everyone to embrace the new standard F4V file format[2] de facto standard for web-based streaming video (over RTMP).\n",
    "F4V \t.flv \tMPEG-4 Part 12 \tH.264 \tMP3, AAC \tReplacement for FLV.\n",
    "Vob \t.vob \tVOB \tH.262/MPEG-2 Part 2 or MPEG-1 Part 2 \tPCM, DTS, MPEG-1, Audio Layer II (MP2), or Dolby Digital (AC-3) \tFiles in VOB format have .vob filename extension and are typically stored in the VIDEO_TS folder at the root of a DVD. The VOB format is based on the MPEG program stream format.\n",
    "Ogg Video \t.ogv, .ogg \tOgg \tTheora, Dirac \tVorbis, FLAC \t\n",
    "Dirac \t.drc \t? \tDirac \t? \t\n",
    "GIF \t.gif \tN/A \tN/A \tnone \tSimple animation, inefficient compression, no sound, widely supported\n",
    "Video alternative to GIF \t.gifv \tHTML \tany \tnone \tNot standardized, and not a real video file in the classical meaning since it merely references the real video file (e.g. a .webm file), which has to exist separately elsewhere. A .gifv \"file\" is simply a HTML webpage which includes a HTML5 video tag, where the video has no sound. As there were large communities online which create art using the medium of short soundless videos in GIF format, GIFV was created as a functionally similar replacement with vastly smaller filesizes than the inefficient GIF format.\n",
    "Multiple-image Network Graphics \t.mng \tN/A \tN/A \tnone \tInefficient, not widely used.\n",
    "AVI \t.avi \tAVI \tany \tany \tUses RIFF\n",
    "MPEG Transport Stream \t.MTS, .M2TS \tAVCHD \tAVCHD (MPEG-4 / H.264 ) \tDolby AC-3 or uncompressed linear PCM \tThe standard video format used by many Sony and Panasonic HD camcorders. It is also used for storing high definition video on Blu-ray discs.\n",
    "QuickTime File Format \t.mov, .qt \tQuickTime \tmany[3] \tAAC, MP3, others[3] \t\n",
    "Windows Media Video \t.wmv \tASF \tWindows Media Video, Windows Media Video Screen, Windows Media Video Image \tWindows Media Audio, Sipro ACELP.net \t\n",
    "Raw video format \t.yuv \tFurther documentation needed \tDoesn't apply \tDoesn't apply \tSupports all resolutions, sampling structures, and frame rates\n",
    "RealMedia (RM) \t.rm \tRealMedia \tRealVideo \tRealAudio \tMade for RealPlayer\n",
    "RealMedia Variable Bitrate (RMVB) \t.rmvb \tRealMedia Variable Bitrate \tRealVideo \tRealAudio \tMade for RealPlayer\n",
    "Advanced Systems Format (ASF) \t.asf \tASF \tany \tany \t\n",
    "AMV video format \t.amv \tModified version of AVI[4] \tVariant of Motion JPEG \tVariant of IMA, ADPCM \tProprietary video file format produced for MP4 players and S1 MP3 players with video playback\n",
    "MPEG-4 Part 14 (MP4) \t.mp4, .m4p (with DRM), .m4v \tMPEG-4 Part 12 \tH.264, MPEG-4 Part 2, MPEG-2, MPEG-1 \tAdvanced Audio Coding, MP3, others \t\n",
    "MPEG-1 \t.mpg, .mp2, .mpeg, .mpe, .mpv \tMPEG-1 part 1 \tMPEG-1 part 2 \tMPEG-1 Audio Layer I, MPEG-1 Audio Layer I, MPEG-1 Audio Layer III (MP3) \tOld, but very widely used due to installed base.\n",
    "MPEG-2 – Video \t.mpg, .mpeg, .m2v \t? \tH.262 \tAAC, MP3, MPEG-2 Part 3, others \t\n",
    "M4V – (file format for videos for iPods and PlayStation Portables developed by Apple) \t.m4v \tMPEG-4 Part 12 \tH.264 \tAAC, Dolby Digital \tDeveloped by Apple, used in iTunes. Very similar to MP4 format, but may optionally have DRM.\n",
    "SVI \t.svi \tMPEG-4 utilising a special header \t? \t? \tSamsung video format for portable players\n",
    "3GPP \t.3gp \tMPEG-4 Part 12 \tMPEG-4 Part 2, H.263, H.264 \tAMR-NB, AMR-WB, AMR-WB+, AAC-LC, HE-AAC v1 or Enhanced aacPlus (HE-AAC v2) \tCommon video format for cell phones\n",
    "3GPP2 \t.3g2 \tMPEG-4 Part 12 \tMPEG-4 Part 2, H.263, H.264 \tAMR-NB, AMR-WB, AMR-WB+, AAC-LC, HE-AAC v1 or Enhanced aacPlus (HE-AAC v2), EVRC, SMV or VMR-WB \tCommon video format for cell phones\n",
    "Material Exchange Format (MXF) \t.mxf \tMXF \t? \t? \t\n",
    "ROQ \t.roq \t? \t? \t? \tused by Quake 3[5]\n",
    "Nullsoft Streaming Video (NSV) \t.nsv \tNSV \t? \t? \tFor streaming video content over the Internet\n",
    "Flash Video (FLV) \t.flv .f4v .f4p .f4a .f4b \tAudio, video, text, data \tAdobe Flash Platform \tSWF, F4V, ISO base media file format \tDeveloped by the Adobe Flash Platform\n",
    "\"\"\"\n",
    "exts = []\n",
    "for i in str_in.split('\\n'):\n",
    "    if len(i.split('\\t'))>1 and not \"Name \\t\" in i:\n",
    "        for j in i.split('\\t')[1].split('.'):\n",
    "            if j.strip()!='':\n",
    "                exts.append(j.replace(',','').split()[0].lower())\n",
    "exts2 = exts"
   ]
  },
  {
   "cell_type": "code",
   "execution_count": 127,
   "metadata": {},
   "outputs": [
    {
     "name": "stdout",
     "output_type": "stream",
     "text": [
      "#TODO: manually update in future\n",
      "#from wikipedia.org/wiki/Video_file_format and  wikipedia.org/wiki/Comparison_of_video_container_formats\n",
      "vid_ext = ['3g2', '3gp', 'amv', 'asf', 'avi', 'divx', 'drc', 'evo', 'f4a', 'f4b', 'f4p', 'f4v', 'flv', 'gif', 'gifv', 'ifo', 'm2p', 'm2ts', 'm2v', 'm4p', 'm4v', 'mcf', 'mk3d', 'mka', 'mks', 'mkv', 'mng', 'mov', 'mp2', 'mp4', 'mpe', 'mpeg', 'mpg', 'mpv', 'mts', 'mxf', 'nsv', 'ogg', 'ogv', 'ps', 'qt', 'rm', 'rmvb', 'roq', 'svi', 'ts', 'vob', 'webm', 'wma', 'wmv', 'yuv']\n"
     ]
    }
   ],
   "source": [
    "exts = list(set(exts1 + exts2))\n",
    "exts.sort()\n",
    "print('#TODO: manually update in future')\n",
    "print('#from wikipedia.org/wiki/Video_file_format and  wikipedia.org/wiki/Comparison_of_video_container_formats')\n",
    "print('vid_ext = ['+ ', '.join(repr(i) for i in exts) +']')"
   ]
  },
  {
   "cell_type": "code",
   "execution_count": 3,
   "metadata": {},
   "outputs": [
    {
     "name": "stdout",
     "output_type": "stream",
     "text": [
      "#TODO: manually update in future\n",
      "#from https://github.com/DavidAnson/ConvertTo-Jpeg\n",
      "img_ext = ['heicheif', '.bmp', '.dib', '.rle', '.cur', '.dds', '.dng', '.gif', '.ico', '.icon', '.exif', '.jfif', '.jpe', '.jpeg', '.jpg', '.arw', '.cr2', '.crw', '.dng', '.erf', '.kdc', '.mrw', '.nef', '.nrw', '.orf', '.pef', '.raf', '.raw', '.rw2', '.rwl', '.sr2', '.srw', '.avci', '.avcs', '.heic', '.heics', '.heif', '.heifs', '.webp', '.png', '.tif', '.tiff', '.jxr', '.wdp']\n"
     ]
    }
   ],
   "source": [
    "str_in = \"\"\"\n",
    "Decoder \tExtensions\n",
    "BMP Decoder \t.BMP .DIB .RLE\n",
    "CUR Decoder \t.CUR\n",
    "DDS Decoder \t.DDS\n",
    "DNG Decoder \t.DNG\n",
    "GIF Decoder \t.GIF\n",
    "ICO Decoder \t.ICO .ICON\n",
    "JPEG Decoder \t.EXIF .JFIF .JPE .JPEG .JPG\n",
    "Microsoft Camera Raw Decoder \t.ARW .CR2 .CRW .DNG .ERF .KDC .MRW .NEF .NRW .ORF .PEF .RAF .RAW .RW2 .RWL .SR2 .SRW\n",
    "Microsoft HEIF Decoder \t.AVCI .AVCS .HEIC .HEICS .HEIF .HEIFS\n",
    "Microsoft Webp Decoder \t.WEBP\n",
    "PNG Decoder \t.PNG\n",
    "TIFF Decoder \t.TIF .TIFF\n",
    "WMPhoto Decoder \t.JXR .WDP\n",
    "HEIC/HEIF\n",
    "\"\"\"\n",
    "img_ext = ['heic' 'heif']\n",
    "for i in str_in.split():\n",
    "    if i.startswith('.'):\n",
    "        img_ext.append(i.lower())\n",
    "print('#TODO: manually update in future')\n",
    "print('#from https://github.com/DavidAnson/ConvertTo-Jpeg')\n",
    "print('img_ext = ['+ ', '.join(repr(i) for i in img_ext) +']')"
   ]
  },
  {
   "cell_type": "code",
   "execution_count": null,
   "metadata": {},
   "outputs": [],
   "source": []
  }
 ],
 "metadata": {
  "kernelspec": {
   "display_name": "Python 3",
   "language": "python",
   "name": "python3"
  },
  "language_info": {
   "codemirror_mode": {
    "name": "ipython",
    "version": 3
   },
   "file_extension": ".py",
   "mimetype": "text/x-python",
   "name": "python",
   "nbconvert_exporter": "python",
   "pygments_lexer": "ipython3",
   "version": "3.6.6"
  }
 },
 "nbformat": 4,
 "nbformat_minor": 2
}
